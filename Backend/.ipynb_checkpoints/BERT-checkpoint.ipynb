{
 "cells": [
  {
   "cell_type": "code",
   "execution_count": 8,
   "id": "8b319845-1d2f-4d1d-8e6e-1f78d40d91f6",
   "metadata": {},
   "outputs": [
    {
     "name": "stderr",
     "output_type": "stream",
     "text": [
      "If you want to use `BertLMHeadModel` as a standalone, add `is_decoder=True.`\n"
     ]
    }
   ],
   "source": [
    "import fitz\n",
    "import torch\n",
    "from transformers import BertTokenizer, BertForSequenceClassification, AutoModelForCausalLM, AutoTokenizer\n",
    "import os\n",
    "\n",
    "# Function to extract text from a PDF\n",
    "def extract_text_from_pdf(pdf_path):\n",
    "    text = \"\"\n",
    "    pdf_document = fitz.open(pdf_path)\n",
    "    for page in pdf_document:\n",
    "        text += page.get_text()\n",
    "    return text\n",
    "\n",
    "# Function to translate text using BERT\n",
    "def translate_text_with_bert(text, target_language=\"fr\"):\n",
    "    model_name = \"bert-base-multilingual-cased\"\n",
    "    model = BertForSequenceClassification.from_pretrained(model_name)\n",
    "    tokenizer = BertTokenizer.from_pretrained(model_name)\n",
    "\n",
    "    # Translate the input text to the target language\n",
    "    input_ids = tokenizer.encode(text, add_special_tokens=True, max_length=128, truncation=True, padding=True, return_tensors=\"pt\")\n",
    "    target_language_code = tokenizer.get_vocab().get(target_language, tokenizer.get_vocab()[\"[UNK]\"])\n",
    "    translation_ids = model.generate(\n",
    "        input_ids,\n",
    "        num_beams=4,\n",
    "        max_length=128,\n",
    "        early_stopping=True,\n",
    "        num_return_sequences=1,\n",
    "        forced_bos_token_id=target_language_code\n",
    "    )\n",
    "\n",
    "    # Decode the translated text\n",
    "    translated_text = tokenizer.decode(translation_ids[0], skip_special_tokens=True)\n",
    "    return translated_text\n",
    "\n",
    "# Function to create a new PDF document with translated text\n",
    "def create_translated_pdf(input_pdf_path, output_pdf_path, target_language=\"fr\"):\n",
    "    extracted_text = extract_text_from_pdf(input_pdf_path)\n",
    "    translated_text = translate_text_with_bert(extracted_text, target_language)\n",
    "\n",
    "    pdf_document = fitz.open()\n",
    "    pdf_document.insert_page(0, width=600, height=800)\n",
    "    page = pdf_document[0]\n",
    "    page.insert_text(translated_text)\n",
    "\n",
    "    pdf_document.save(output_pdf_path)\n",
    "    pdf_document.close()\n",
    "\n",
    "# # Paths for input and output PDF files\n",
    "# input_pdf_path = \"your_input.pdf\"\n",
    "# output_pdf_path = \"translated_outputBERT.pdf\"\n",
    "\n",
    "# # Translate and create the new PDF\n",
    "# create_translated_pdf(input_pdf_path, output_pdf_path)\n",
    "\n",
    "# print(f\"Translation complete. Translated PDF saved at: {output_pdf_path}\")\n"
   ]
  },
  {
   "cell_type": "code",
   "execution_count": 9,
   "id": "a3a5eef6-36cc-4c12-896d-5a5bff59bfc5",
   "metadata": {},
   "outputs": [
    {
     "ename": "AttributeError",
     "evalue": "'BertTokenizer' object has no attribute '_target_languages'",
     "output_type": "error",
     "traceback": [
      "\u001b[1;31m---------------------------------------------------------------------------\u001b[0m",
      "\u001b[1;31mAttributeError\u001b[0m                            Traceback (most recent call last)",
      "Cell \u001b[1;32mIn[9], line 6\u001b[0m\n\u001b[0;32m      3\u001b[0m output_pdf_path \u001b[38;5;241m=\u001b[39m \u001b[38;5;124m\"\u001b[39m\u001b[38;5;124mtranslated_outputBERT.pdf\u001b[39m\u001b[38;5;124m\"\u001b[39m\n\u001b[0;32m      5\u001b[0m \u001b[38;5;66;03m# Translate and create the new PDF\u001b[39;00m\n\u001b[1;32m----> 6\u001b[0m \u001b[43mcreate_translated_pdf\u001b[49m\u001b[43m(\u001b[49m\u001b[43minput_pdf_path\u001b[49m\u001b[43m,\u001b[49m\u001b[43m \u001b[49m\u001b[43moutput_pdf_path\u001b[49m\u001b[43m)\u001b[49m\n\u001b[0;32m      8\u001b[0m \u001b[38;5;28mprint\u001b[39m(\u001b[38;5;124mf\u001b[39m\u001b[38;5;124m\"\u001b[39m\u001b[38;5;124mTranslation complete. Translated PDF saved at: \u001b[39m\u001b[38;5;132;01m{\u001b[39;00moutput_pdf_path\u001b[38;5;132;01m}\u001b[39;00m\u001b[38;5;124m\"\u001b[39m)\n",
      "Cell \u001b[1;32mIn[8], line 39\u001b[0m, in \u001b[0;36mcreate_translated_pdf\u001b[1;34m(input_pdf_path, output_pdf_path, target_language)\u001b[0m\n\u001b[0;32m     37\u001b[0m \u001b[38;5;28;01mdef\u001b[39;00m \u001b[38;5;21mcreate_translated_pdf\u001b[39m(input_pdf_path, output_pdf_path, target_language\u001b[38;5;241m=\u001b[39m\u001b[38;5;124m\"\u001b[39m\u001b[38;5;124mfr\u001b[39m\u001b[38;5;124m\"\u001b[39m):\n\u001b[0;32m     38\u001b[0m     extracted_text \u001b[38;5;241m=\u001b[39m extract_text_from_pdf(input_pdf_path)\n\u001b[1;32m---> 39\u001b[0m     translated_text \u001b[38;5;241m=\u001b[39m \u001b[43mtranslate_text_with_bert\u001b[49m\u001b[43m(\u001b[49m\u001b[43mextracted_text\u001b[49m\u001b[43m,\u001b[49m\u001b[43m \u001b[49m\u001b[43mtarget_language\u001b[49m\u001b[43m)\u001b[49m\n\u001b[0;32m     41\u001b[0m     pdf_document \u001b[38;5;241m=\u001b[39m fitz\u001b[38;5;241m.\u001b[39mopen()\n\u001b[0;32m     42\u001b[0m     pdf_document\u001b[38;5;241m.\u001b[39minsert_page(\u001b[38;5;241m0\u001b[39m, width\u001b[38;5;241m=\u001b[39m\u001b[38;5;241m600\u001b[39m, height\u001b[38;5;241m=\u001b[39m\u001b[38;5;241m800\u001b[39m)\n",
      "Cell \u001b[1;32mIn[8], line 28\u001b[0m, in \u001b[0;36mtranslate_text_with_bert\u001b[1;34m(text, target_language)\u001b[0m\n\u001b[0;32m     25\u001b[0m input_ids \u001b[38;5;241m=\u001b[39m tokenizer\u001b[38;5;241m.\u001b[39mencode(text, add_special_tokens\u001b[38;5;241m=\u001b[39m\u001b[38;5;28;01mTrue\u001b[39;00m, max_length\u001b[38;5;241m=\u001b[39m\u001b[38;5;241m128\u001b[39m, truncation\u001b[38;5;241m=\u001b[39m\u001b[38;5;28;01mTrue\u001b[39;00m, padding\u001b[38;5;241m=\u001b[39m\u001b[38;5;28;01mTrue\u001b[39;00m, return_tensors\u001b[38;5;241m=\u001b[39m\u001b[38;5;124m\"\u001b[39m\u001b[38;5;124mpt\u001b[39m\u001b[38;5;124m\"\u001b[39m)\n\u001b[0;32m     27\u001b[0m \u001b[38;5;66;03m# Translate the input text to the target language\u001b[39;00m\n\u001b[1;32m---> 28\u001b[0m target_language_code \u001b[38;5;241m=\u001b[39m tokenizer\u001b[38;5;241m.\u001b[39mconvert_tokens_to_ids(\u001b[43mtokenizer\u001b[49m\u001b[38;5;241;43m.\u001b[39;49m\u001b[43m_target_languages\u001b[49m\u001b[38;5;241m.\u001b[39mget(target_language, \u001b[38;5;124m'\u001b[39m\u001b[38;5;124men\u001b[39m\u001b[38;5;124m'\u001b[39m))\n\u001b[0;32m     29\u001b[0m translation_ids \u001b[38;5;241m=\u001b[39m model\u001b[38;5;241m.\u001b[39mgenerate(input_ids, num_beams\u001b[38;5;241m=\u001b[39m\u001b[38;5;241m4\u001b[39m, max_length\u001b[38;5;241m=\u001b[39m\u001b[38;5;241m128\u001b[39m, early_stopping\u001b[38;5;241m=\u001b[39m\u001b[38;5;28;01mTrue\u001b[39;00m, num_return_sequences\u001b[38;5;241m=\u001b[39m\u001b[38;5;241m1\u001b[39m, forced_bos_token_id\u001b[38;5;241m=\u001b[39mtarget_language_code)\n\u001b[0;32m     31\u001b[0m \u001b[38;5;66;03m# Decode the translated text\u001b[39;00m\n",
      "\u001b[1;31mAttributeError\u001b[0m: 'BertTokenizer' object has no attribute '_target_languages'"
     ]
    }
   ],
   "source": [
    "# Input and output file paths\n",
    "input_pdf_path = \"uploads/AFFAIRE C.P. ET M.N. c. FRANCE.pdf\"\n",
    "output_pdf_path = \"translated_outputBERT.pdf\"\n",
    "\n",
    "# Translate and create the new PDF\n",
    "create_translated_pdf(input_pdf_path, output_pdf_path)\n",
    "\n",
    "print(f\"Translation complete. Translated PDF saved at: {output_pdf_path}\")\n"
   ]
  },
  {
   "cell_type": "code",
   "execution_count": null,
   "id": "b1ff5da9-d2d6-4dce-bddf-dda8af250018",
   "metadata": {},
   "outputs": [],
   "source": []
  }
 ],
 "metadata": {
  "kernelspec": {
   "display_name": "Python 3 (ipykernel)",
   "language": "python",
   "name": "python3"
  },
  "language_info": {
   "codemirror_mode": {
    "name": "ipython",
    "version": 3
   },
   "file_extension": ".py",
   "mimetype": "text/x-python",
   "name": "python",
   "nbconvert_exporter": "python",
   "pygments_lexer": "ipython3",
   "version": "3.9.13"
  }
 },
 "nbformat": 4,
 "nbformat_minor": 5
}
